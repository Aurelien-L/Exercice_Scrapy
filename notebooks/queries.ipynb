{
 "cells": [
  {
   "cell_type": "markdown",
   "id": "f2d483bd",
   "metadata": {},
   "source": [
    "<img src=\"../img/banniere_sql.png\" alt=\"banner_sql\" width=\"800\"/>"
   ]
  },
  {
   "cell_type": "markdown",
   "id": "81d2ea21",
   "metadata": {},
   "source": [
    "# Application de requêtes SQL vers la BDD"
   ]
  },
  {
   "cell_type": "markdown",
   "id": "024e81fe",
   "metadata": {},
   "source": [
    "### Imports"
   ]
  },
  {
   "cell_type": "code",
   "execution_count": null,
   "id": "a7455423",
   "metadata": {},
   "outputs": [],
   "source": [
    "from sqlalchemy import create_engine\n",
    "import pandas as pd\n",
    "import os\n",
    "from dotenv import load_dotenv"
   ]
  },
  {
   "cell_type": "markdown",
   "id": "df0455d7",
   "metadata": {},
   "source": [
    "### Connexion BDD"
   ]
  },
  {
   "cell_type": "code",
   "execution_count": 2,
   "id": "9f8d88ad",
   "metadata": {},
   "outputs": [],
   "source": [
    "load_dotenv()\n",
    "\n",
    "DB_URL = os.getenv(\"DB_URL\")\n",
    "engine = create_engine(DB_URL)"
   ]
  },
  {
   "cell_type": "markdown",
   "id": "aeb2c8fb",
   "metadata": {},
   "source": [
    "### Exemples de requêtes"
   ]
  },
  {
   "cell_type": "markdown",
   "id": "00b01560",
   "metadata": {},
   "source": [
    "Nombre de livres total"
   ]
  },
  {
   "cell_type": "code",
   "execution_count": 3,
   "id": "c1329e98",
   "metadata": {},
   "outputs": [
    {
     "data": {
      "text/html": [
       "<div>\n",
       "<style scoped>\n",
       "    .dataframe tbody tr th:only-of-type {\n",
       "        vertical-align: middle;\n",
       "    }\n",
       "\n",
       "    .dataframe tbody tr th {\n",
       "        vertical-align: top;\n",
       "    }\n",
       "\n",
       "    .dataframe thead th {\n",
       "        text-align: right;\n",
       "    }\n",
       "</style>\n",
       "<table border=\"1\" class=\"dataframe\">\n",
       "  <thead>\n",
       "    <tr style=\"text-align: right;\">\n",
       "      <th></th>\n",
       "      <th>count</th>\n",
       "    </tr>\n",
       "  </thead>\n",
       "  <tbody>\n",
       "    <tr>\n",
       "      <th>0</th>\n",
       "      <td>1000</td>\n",
       "    </tr>\n",
       "  </tbody>\n",
       "</table>\n",
       "</div>"
      ],
      "text/plain": [
       "   count\n",
       "0   1000"
      ]
     },
     "execution_count": 3,
     "metadata": {},
     "output_type": "execute_result"
    }
   ],
   "source": [
    "query = \"SELECT COUNT(*) FROM books;\"\n",
    "pd.read_sql_query(query, engine)"
   ]
  },
  {
   "cell_type": "markdown",
   "id": "442a3176",
   "metadata": {},
   "source": [
    "Prix moyen des livres"
   ]
  },
  {
   "cell_type": "code",
   "execution_count": 7,
   "id": "945caf8b",
   "metadata": {},
   "outputs": [
    {
     "data": {
      "text/html": [
       "<div>\n",
       "<style scoped>\n",
       "    .dataframe tbody tr th:only-of-type {\n",
       "        vertical-align: middle;\n",
       "    }\n",
       "\n",
       "    .dataframe tbody tr th {\n",
       "        vertical-align: top;\n",
       "    }\n",
       "\n",
       "    .dataframe thead th {\n",
       "        text-align: right;\n",
       "    }\n",
       "</style>\n",
       "<table border=\"1\" class=\"dataframe\">\n",
       "  <thead>\n",
       "    <tr style=\"text-align: right;\">\n",
       "      <th></th>\n",
       "      <th>avg_price</th>\n",
       "    </tr>\n",
       "  </thead>\n",
       "  <tbody>\n",
       "    <tr>\n",
       "      <th>0</th>\n",
       "      <td>35.07035</td>\n",
       "    </tr>\n",
       "  </tbody>\n",
       "</table>\n",
       "</div>"
      ],
      "text/plain": [
       "   avg_price\n",
       "0   35.07035"
      ]
     },
     "execution_count": 7,
     "metadata": {},
     "output_type": "execute_result"
    }
   ],
   "source": [
    "query2 = \"SELECT AVG(price) AS avg_price FROM stocks;\"\n",
    "pd.read_sql_query(query2, engine)"
   ]
  },
  {
   "cell_type": "markdown",
   "id": "ed387959",
   "metadata": {},
   "source": [
    "Top 5 des catégories par nombre de livres"
   ]
  },
  {
   "cell_type": "code",
   "execution_count": 11,
   "id": "e887e3f1",
   "metadata": {},
   "outputs": [
    {
     "data": {
      "text/html": [
       "<div>\n",
       "<style scoped>\n",
       "    .dataframe tbody tr th:only-of-type {\n",
       "        vertical-align: middle;\n",
       "    }\n",
       "\n",
       "    .dataframe tbody tr th {\n",
       "        vertical-align: top;\n",
       "    }\n",
       "\n",
       "    .dataframe thead th {\n",
       "        text-align: right;\n",
       "    }\n",
       "</style>\n",
       "<table border=\"1\" class=\"dataframe\">\n",
       "  <thead>\n",
       "    <tr style=\"text-align: right;\">\n",
       "      <th></th>\n",
       "      <th>category</th>\n",
       "      <th>nb</th>\n",
       "    </tr>\n",
       "  </thead>\n",
       "  <tbody>\n",
       "    <tr>\n",
       "      <th>0</th>\n",
       "      <td>Default</td>\n",
       "      <td>152</td>\n",
       "    </tr>\n",
       "    <tr>\n",
       "      <th>1</th>\n",
       "      <td>Nonfiction</td>\n",
       "      <td>110</td>\n",
       "    </tr>\n",
       "    <tr>\n",
       "      <th>2</th>\n",
       "      <td>Sequential Art</td>\n",
       "      <td>75</td>\n",
       "    </tr>\n",
       "    <tr>\n",
       "      <th>3</th>\n",
       "      <td>Add a comment</td>\n",
       "      <td>67</td>\n",
       "    </tr>\n",
       "    <tr>\n",
       "      <th>4</th>\n",
       "      <td>Fiction</td>\n",
       "      <td>65</td>\n",
       "    </tr>\n",
       "  </tbody>\n",
       "</table>\n",
       "</div>"
      ],
      "text/plain": [
       "         category   nb\n",
       "0         Default  152\n",
       "1      Nonfiction  110\n",
       "2  Sequential Art   75\n",
       "3   Add a comment   67\n",
       "4         Fiction   65"
      ]
     },
     "execution_count": 11,
     "metadata": {},
     "output_type": "execute_result"
    }
   ],
   "source": [
    "query3 = \"\"\"\n",
    "    SELECT categories.name as category, COUNT(*) AS nb\n",
    "    FROM books\n",
    "    JOIN categories ON categories.id = books.category_id\n",
    "    GROUP BY category\n",
    "    ORDER BY nb DESC\n",
    "    LIMIT 5;\n",
    "    \"\"\"\n",
    "\n",
    "pd.read_sql_query(query3, engine)"
   ]
  },
  {
   "cell_type": "markdown",
   "id": "99d43006",
   "metadata": {},
   "source": [
    "Top 10 des livres les mieux notés avec catégorie associée"
   ]
  },
  {
   "cell_type": "code",
   "execution_count": null,
   "id": "75b1b1a7",
   "metadata": {},
   "outputs": [
    {
     "data": {
      "text/html": [
       "<div>\n",
       "<style scoped>\n",
       "    .dataframe tbody tr th:only-of-type {\n",
       "        vertical-align: middle;\n",
       "    }\n",
       "\n",
       "    .dataframe tbody tr th {\n",
       "        vertical-align: top;\n",
       "    }\n",
       "\n",
       "    .dataframe thead th {\n",
       "        text-align: right;\n",
       "    }\n",
       "</style>\n",
       "<table border=\"1\" class=\"dataframe\">\n",
       "  <thead>\n",
       "    <tr style=\"text-align: right;\">\n",
       "      <th></th>\n",
       "      <th>title</th>\n",
       "      <th>category</th>\n",
       "      <th>rating</th>\n",
       "    </tr>\n",
       "  </thead>\n",
       "  <tbody>\n",
       "    <tr>\n",
       "      <th>0</th>\n",
       "      <td>Black Dust</td>\n",
       "      <td>Romance</td>\n",
       "      <td>5</td>\n",
       "    </tr>\n",
       "    <tr>\n",
       "      <th>1</th>\n",
       "      <td>Sapiens: A Brief History of Humankind</td>\n",
       "      <td>History</td>\n",
       "      <td>5</td>\n",
       "    </tr>\n",
       "    <tr>\n",
       "      <th>2</th>\n",
       "      <td>The Elephant Tree</td>\n",
       "      <td>Thriller</td>\n",
       "      <td>5</td>\n",
       "    </tr>\n",
       "    <tr>\n",
       "      <th>3</th>\n",
       "      <td>Worlds Elsewhere: Journeys Around Shakespeare’...</td>\n",
       "      <td>Nonfiction</td>\n",
       "      <td>5</td>\n",
       "    </tr>\n",
       "    <tr>\n",
       "      <th>4</th>\n",
       "      <td>Rip it Up and Start Again</td>\n",
       "      <td>Music</td>\n",
       "      <td>5</td>\n",
       "    </tr>\n",
       "    <tr>\n",
       "      <th>5</th>\n",
       "      <td>Scott Pilgrim's Precious Little Life (Scott Pi...</td>\n",
       "      <td>Sequential Art</td>\n",
       "      <td>5</td>\n",
       "    </tr>\n",
       "    <tr>\n",
       "      <th>6</th>\n",
       "      <td>Set Me Free</td>\n",
       "      <td>Young Adult</td>\n",
       "      <td>5</td>\n",
       "    </tr>\n",
       "    <tr>\n",
       "      <th>7</th>\n",
       "      <td>Sophie's World</td>\n",
       "      <td>Philosophy</td>\n",
       "      <td>5</td>\n",
       "    </tr>\n",
       "    <tr>\n",
       "      <th>8</th>\n",
       "      <td>The Four Agreements: A Practical Guide to Pers...</td>\n",
       "      <td>Spirituality</td>\n",
       "      <td>5</td>\n",
       "    </tr>\n",
       "    <tr>\n",
       "      <th>9</th>\n",
       "      <td>Thirst</td>\n",
       "      <td>Fiction</td>\n",
       "      <td>5</td>\n",
       "    </tr>\n",
       "  </tbody>\n",
       "</table>\n",
       "</div>"
      ],
      "text/plain": [
       "                                               title        category  rating\n",
       "0                                         Black Dust         Romance       5\n",
       "1              Sapiens: A Brief History of Humankind         History       5\n",
       "2                                  The Elephant Tree        Thriller       5\n",
       "3  Worlds Elsewhere: Journeys Around Shakespeare’...      Nonfiction       5\n",
       "4                          Rip it Up and Start Again           Music       5\n",
       "5  Scott Pilgrim's Precious Little Life (Scott Pi...  Sequential Art       5\n",
       "6                                        Set Me Free     Young Adult       5\n",
       "7                                     Sophie's World      Philosophy       5\n",
       "8  The Four Agreements: A Practical Guide to Pers...    Spirituality       5\n",
       "9                                             Thirst         Fiction       5"
      ]
     },
     "execution_count": 16,
     "metadata": {},
     "output_type": "execute_result"
    }
   ],
   "source": [
    "query4 = \"\"\"\n",
    "    SELECT title, categories.name as category, rating\n",
    "    FROM books\n",
    "    JOIN categories ON categories.id = books.category_id \n",
    "    ORDER BY rating DESC\n",
    "    LIMIT 10;\n",
    "    \"\"\"\n",
    "\n",
    "pd.read_sql_query(query4, engine)"
   ]
  },
  {
   "cell_type": "markdown",
   "id": "96673661",
   "metadata": {},
   "source": [
    "Titre et prix du livre le moins cher"
   ]
  },
  {
   "cell_type": "code",
   "execution_count": 22,
   "id": "03055054",
   "metadata": {},
   "outputs": [
    {
     "data": {
      "text/html": [
       "<div>\n",
       "<style scoped>\n",
       "    .dataframe tbody tr th:only-of-type {\n",
       "        vertical-align: middle;\n",
       "    }\n",
       "\n",
       "    .dataframe tbody tr th {\n",
       "        vertical-align: top;\n",
       "    }\n",
       "\n",
       "    .dataframe thead th {\n",
       "        text-align: right;\n",
       "    }\n",
       "</style>\n",
       "<table border=\"1\" class=\"dataframe\">\n",
       "  <thead>\n",
       "    <tr style=\"text-align: right;\">\n",
       "      <th></th>\n",
       "      <th>title</th>\n",
       "      <th>price</th>\n",
       "    </tr>\n",
       "  </thead>\n",
       "  <tbody>\n",
       "    <tr>\n",
       "      <th>0</th>\n",
       "      <td>An Abundance of Katherines</td>\n",
       "      <td>10.0</td>\n",
       "    </tr>\n",
       "  </tbody>\n",
       "</table>\n",
       "</div>"
      ],
      "text/plain": [
       "                        title  price\n",
       "0  An Abundance of Katherines   10.0"
      ]
     },
     "execution_count": 22,
     "metadata": {},
     "output_type": "execute_result"
    }
   ],
   "source": [
    "query5 = \"\"\"\n",
    "    SELECT books.title, stocks.price\n",
    "    FROM books\n",
    "    JOIN stocks ON books.id = stocks.book_id\n",
    "    ORDER BY stocks.price ASC\n",
    "    LIMIT 1;\n",
    "    \"\"\"\n",
    "\n",
    "pd.read_sql_query(query5, engine)"
   ]
  },
  {
   "cell_type": "markdown",
   "id": "241429ab",
   "metadata": {},
   "source": [
    "Nombre de livres total dans le stock"
   ]
  },
  {
   "cell_type": "code",
   "execution_count": 23,
   "id": "4a5a5820",
   "metadata": {},
   "outputs": [
    {
     "data": {
      "text/html": [
       "<div>\n",
       "<style scoped>\n",
       "    .dataframe tbody tr th:only-of-type {\n",
       "        vertical-align: middle;\n",
       "    }\n",
       "\n",
       "    .dataframe tbody tr th {\n",
       "        vertical-align: top;\n",
       "    }\n",
       "\n",
       "    .dataframe thead th {\n",
       "        text-align: right;\n",
       "    }\n",
       "</style>\n",
       "<table border=\"1\" class=\"dataframe\">\n",
       "  <thead>\n",
       "    <tr style=\"text-align: right;\">\n",
       "      <th></th>\n",
       "      <th>sum</th>\n",
       "    </tr>\n",
       "  </thead>\n",
       "  <tbody>\n",
       "    <tr>\n",
       "      <th>0</th>\n",
       "      <td>8585</td>\n",
       "    </tr>\n",
       "  </tbody>\n",
       "</table>\n",
       "</div>"
      ],
      "text/plain": [
       "    sum\n",
       "0  8585"
      ]
     },
     "execution_count": 23,
     "metadata": {},
     "output_type": "execute_result"
    }
   ],
   "source": [
    "query6 = \"\"\" \n",
    "    SELECT SUM(stock_count) FROM stocks;\n",
    "    \"\"\"\n",
    "\n",
    "pd.read_sql_query(query6, engine)"
   ]
  }
 ],
 "metadata": {
  "kernelspec": {
   "display_name": ".venv",
   "language": "python",
   "name": "python3"
  },
  "language_info": {
   "codemirror_mode": {
    "name": "ipython",
    "version": 3
   },
   "file_extension": ".py",
   "mimetype": "text/x-python",
   "name": "python",
   "nbconvert_exporter": "python",
   "pygments_lexer": "ipython3",
   "version": "3.13.3"
  }
 },
 "nbformat": 4,
 "nbformat_minor": 5
}
